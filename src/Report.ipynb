{
 "cells": [
  {
   "cell_type": "markdown",
   "metadata": {},
   "source": [
    "# Speech enhancement by Wiener filtering - Voice activity detection and all pole model"
   ]
  },
  {
   "cell_type": "markdown",
   "metadata": {},
   "source": [
    "***Abstract***"
   ]
  },
  {
   "cell_type": "markdown",
   "metadata": {},
   "source": [
    "# 1. Introduction"
   ]
  },
  {
   "cell_type": "markdown",
   "metadata": {},
   "source": [
    "## 2. Review of existing techniques (How thorough ?)"
   ]
  },
  {
   "cell_type": "markdown",
   "metadata": {},
   "source": [
    "## 3. Algorithm description"
   ]
  },
  {
   "cell_type": "markdown",
   "metadata": {},
   "source": [
    "Speech signal $s$, noise signal $n$, total signal $y = s + n$."
   ]
  },
  {
   "cell_type": "markdown",
   "metadata": {},
   "source": [
    "### 3.1 Wiener filtering\n",
    "$$H(\\omega) = \\frac{P_s(\\omega)}{P_s(\\omega)+P_n(\\omega)}$$  \n",
    "where $P_s$ and $P_n$ are the power spectral density (PSD) of respectively the speech and the noise. The main focus of this work is to build a good estimation of those PSDs.\n",
    "> 1. Run the signal through a voice activity detection module (VAD), identify each frame as either speech or noise\n",
    "> 2. If processing a speech frame :  \n",
    "    2.1 Compute the speech PSD estimation  \n",
    "    2.2 Apply the denoising procedure -> obtain estimate $\\hat{s}$ of $s$  \n",
    "    2.3 Compute a noise PSD estimation by considering the residual  $y - \\hat{s}$  \n",
    "> 3. If processing a noise frame : compute a noise PSD estimation"
   ]
  },
  {
   "cell_type": "markdown",
   "metadata": {},
   "source": [
    "### 3.2 Voice Activity Detection"
   ]
  },
  {
   "cell_type": "markdown",
   "metadata": {},
   "source": [
    "#### 3.2.1 Feature extraction  \n",
    "1. Energy of the speech low-frequency subband, total energy\n",
    "2. Zero-crossing "
   ]
  },
  {
   "cell_type": "markdown",
   "metadata": {},
   "source": [
    "#### 3.2.2 Decision model  \n",
    "1. Statistical optimization\n",
    "2. Energy ratios"
   ]
  },
  {
   "cell_type": "markdown",
   "metadata": {},
   "source": [
    "#### 3.2.3 Smoothing\n",
    "1. Double threshold for inerty\n",
    "2. Local median"
   ]
  },
  {
   "cell_type": "markdown",
   "metadata": {},
   "source": [
    "### 3.3 Noise PSD estimation\n",
    "All computations are done under the assumption that the noise is white centered gaussian with variance $\\sigma_n^2$. In this case we simply have $P_n(\\omega) = \\sigma_n^2$.\n",
    "\n",
    "**Update rule for $\\sigma$'s**"
   ]
  },
  {
   "cell_type": "markdown",
   "metadata": {},
   "source": [
    "### 3.4 Speech PSD estimation : all-pole model\n",
    "$$ V(\\omega) = \\frac{1}{1- \\sum\\limits_{k=1}^{p} a_k e^{-jk\\omega}} \\left(\\implies s[n] = \\sum\\limits_{k=1}^{p} a_k s[n-k] + u[n] \\right)$$\n",
    "$$ P_s(\\omega) = \\frac{g^2}{\\left| 1- \\sum\\limits_{k=1}^{p} a_k e^{-jk\\omega} \\right|^2}$$\n",
    "$$ g^2 \\text{ such that } \\int_{-\\pi}^{\\pi} P_s(\\omega) \\text{d}\\omega = \\sum\\limits_{k=0}^{N-1}y^2[k] - N\\sigma_n^2$$"
   ]
  },
  {
   "cell_type": "markdown",
   "metadata": {},
   "source": [
    "## Results and discussion"
   ]
  },
  {
   "cell_type": "markdown",
   "metadata": {},
   "source": [
    "## Conclusion"
   ]
  },
  {
   "cell_type": "markdown",
   "metadata": {},
   "source": [
    "## Bibliography"
   ]
  }
 ],
 "metadata": {
  "kernelspec": {
   "display_name": "Python 3",
   "language": "python",
   "name": "python3"
  },
  "language_info": {
   "codemirror_mode": {
    "name": "ipython",
    "version": 3
   },
   "file_extension": ".py",
   "mimetype": "text/x-python",
   "name": "python",
   "nbconvert_exporter": "python",
   "pygments_lexer": "ipython3",
   "version": "3.6.1"
  }
 },
 "nbformat": 4,
 "nbformat_minor": 2
}

{
 "cells": [
  {
   "cell_type": "code",
   "execution_count": null,
   "metadata": {},
   "outputs": [],
   "source": [
    "from utils import process_frame\n",
    "import numpy as np\n",
    "import matplotlib.pyplot as plt\n",
    "%matplotlib inline\n",
    "import IPython\n",
    "\n",
    "from scipy.io import wavfile\n",
    "import scipy.signal.windows as windows"
   ]
  },
  {
   "cell_type": "code",
   "execution_count": null,
   "metadata": {
    "collapsed": true
   },
   "outputs": [],
   "source": [
    "fs, s = wavfile.read('../samples/arctic_b0443.wav')\n",
    "s = s/np.max(s)"
   ]
  },
  {
   "cell_type": "code",
   "execution_count": null,
   "metadata": {},
   "outputs": [],
   "source": [
    "# Read input signal\n",
    "IPython.display.Audio(s,rate=fs)"
   ]
  },
  {
   "cell_type": "code",
   "execution_count": null,
   "metadata": {
    "scrolled": false
   },
   "outputs": [],
   "source": [
    "# Main parameters : order of the filter, size of the frames\n",
    "p = 50 \n",
    "frame_size = 400\n",
    "\n",
    "# Overlap : the choice of analysis and synthesis windows is as in the STFT course\n",
    "# Careful that it is only consistent for a 50% overlap\n",
    "overlap_ratio = 0.5 \n",
    "overlap = int(overlap_ratio*frame_size)\n",
    "w_a = windows.cosine(frame_size)\n",
    "w_s = windows.cosine(frame_size)\n",
    "\n",
    "# Compute the number of frames and pad the input signal at the end with zeros\n",
    "# to work only with full frames\n",
    "nframes = int(np.ceil((len(s)-overlap)/(frame_size-overlap)))\n",
    "padded_size = int((frame_size-overlap)*nframes+overlap)\n",
    "s_padded = np.concatenate((s,np.zeros(padded_size-len(s))))\n",
    "y = np.zeros(len(s_padded)) # Initialize the synthetised signal\n",
    "\n",
    "for frame in range(0,nframes):\n",
    "    start = frame*overlap\n",
    "    end = start+frame_size\n",
    "    y[start:end] = w_s*process_frame(w_a*s_padded[start:end],p)\n",
    "\n",
    "y = y/np.max(y) # Renormalize\n",
    "\n",
    "\n",
    "# Just as a visual check : plot both the original and synthezised signals\n",
    "plt.plot(s,label='Original signal')\n",
    "plt.plot(y,label='Synthetized signal')\n",
    "plt.legend()\n",
    "plt.title('Frame size = {}, p = {}'.format(frame_size,p))\n",
    "\n",
    "#Read synthetised signal\n",
    "IPython.display.Audio(y,rate=fs)"
   ]
  }
 ],
 "metadata": {
  "kernelspec": {
   "display_name": "Python 3",
   "language": "python",
   "name": "python3"
  },
  "language_info": {
   "codemirror_mode": {
    "name": "ipython",
    "version": 3
   },
   "file_extension": ".py",
   "mimetype": "text/x-python",
   "name": "python",
   "nbconvert_exporter": "python",
   "pygments_lexer": "ipython3",
   "version": "3.6.1"
  }
 },
 "nbformat": 4,
 "nbformat_minor": 2
}

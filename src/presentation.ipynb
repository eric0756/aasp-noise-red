{
 "cells": [
  {
   "cell_type": "code",
   "execution_count": 14,
   "metadata": {
    "collapsed": true
   },
   "outputs": [],
   "source": [
    "import pyroomacoustics as pra\n",
    "import os.path\n",
    "import speech as sp"
   ]
  },
  {
   "cell_type": "code",
   "execution_count": 15,
   "metadata": {},
   "outputs": [],
   "source": [
    "snr_vals = [10,20]\n",
    "desired_word = ['yes','no']\n",
    "lpc_order = 10\n",
    "iterations = 5\n",
    "fft_len = 400\n",
    "n_fft_bins = fft_len//2 + 1\n",
    "alpha = 0.05\n"
   ]
  },
  {
   "cell_type": "code",
   "execution_count": 16,
   "metadata": {},
   "outputs": [
    {
     "name": "stdout",
     "output_type": "stream",
     "text": [
      "Dataset exists! Using ./google_speech_commands\n",
      "Dataset exists! Using ./google_speech_commands\n",
      "Dataset exists! Using ./google_speech_commands\n",
      "Dataset exists! Using ./google_speech_commands\n"
     ]
    },
    {
     "name": "stderr",
     "output_type": "stream",
     "text": [
      "/home/lcolbois/anaconda3/lib/python3.6/site-packages/scipy/io/wavfile.py:273: WavFileWarning: Chunk (non-data) not understood, skipping it.\n",
      "  WavFileWarning)\n"
     ]
    }
   ],
   "source": [
    "sub = 2\n",
    "dataset = pra.datasets.GoogleSpeechCommands(download=True,subset=sub)\n",
    "noise_samps = dataset.filter(speech=0)\n",
    "noise = noise_samps[0]\n",
    "speech_samps = dataset.filter(speech=1)\n",
    "speech_samps = speech_samps.filter(word=desired_word)"
   ]
  },
  {
   "cell_type": "code",
   "execution_count": 17,
   "metadata": {},
   "outputs": [],
   "source": [
    "speech_file_location = {}\n",
    "for s in speech_samps:\n",
    "    speech_file_location[s] = s.meta.as_dict()['file_loc']\n",
    "noise_file_location = noise.meta.as_dict()['file_loc']"
   ]
  },
  {
   "cell_type": "code",
   "execution_count": 18,
   "metadata": {
    "collapsed": true
   },
   "outputs": [],
   "source": [
    "dest_dir = 'output'\n",
    "if not os.path.exists(dest_dir):\n",
    "    os.makedirs(dest_dir)"
   ]
  },
  {
   "cell_type": "code",
   "execution_count": 19,
   "metadata": {},
   "outputs": [],
   "source": [
    "for SNR in snr_vals:\n",
    "    for num,samp in enumerate(speech_samps):\n",
    "        word = samp.meta.as_dict()['word']\n",
    "        y_clean,sr = sp.data.load(speech_file_location[samp])\n",
    "        y = sp.data.add_noise_from_file(y_clean,sr,noise_file_location,SNR)\n",
    "        s = sp.process.denoise(y,fft_len,lpc_order,iterations)\n",
    "        s_VAD,_,_ = sp.process.denoise_with_vad(y,sr,fft_len, lpc_order,iterations,alpha)\n",
    "        id = 'output/'+word+'{}dB_{}'.format(SNR,num)\n",
    "        sp.data.write(y,sr,id+'_noisy.wav')\n",
    "        sp.data.write(s,sr,id+'_denoised.wav')\n",
    "        sp.data.write(s_VAD,sr,id+'_VAD+denoised.wav')"
   ]
  },
  {
   "cell_type": "code",
   "execution_count": 37,
   "metadata": {
    "collapsed": true
   },
   "outputs": [],
   "source": [
    "samp = speech_samps[0]"
   ]
  },
  {
   "cell_type": "code",
   "execution_count": 40,
   "metadata": {},
   "outputs": [
    {
     "data": {
      "text/plain": [
       "array([ -16,  -10,    2, ..., -160,  -76,    1], dtype=int16)"
      ]
     },
     "execution_count": 40,
     "metadata": {},
     "output_type": "execute_result"
    }
   ],
   "source": []
  },
  {
   "cell_type": "code",
   "execution_count": null,
   "metadata": {
    "collapsed": true
   },
   "outputs": [],
   "source": []
  }
 ],
 "metadata": {
  "kernelspec": {
   "display_name": "Python 3",
   "language": "python",
   "name": "python3"
  },
  "language_info": {
   "codemirror_mode": {
    "name": "ipython",
    "version": 3
   },
   "file_extension": ".py",
   "mimetype": "text/x-python",
   "name": "python",
   "nbconvert_exporter": "python",
   "pygments_lexer": "ipython3",
   "version": "3.6.1"
  }
 },
 "nbformat": 4,
 "nbformat_minor": 2
}

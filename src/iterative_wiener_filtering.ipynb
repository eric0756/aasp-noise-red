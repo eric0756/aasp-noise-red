{
 "cells": [
  {
   "cell_type": "code",
   "execution_count": null,
   "metadata": {
    "collapsed": true
   },
   "outputs": [],
   "source": [
    "import numpy as np\n",
    "import scipy.signal as sig\n",
    "import matplotlib.pyplot as plt\n",
    "import IPython\n",
    "from scipy.io import wavfile\n",
    "%matplotlib inline"
   ]
  },
  {
   "cell_type": "code",
   "execution_count": null,
   "metadata": {
    "collapsed": true
   },
   "outputs": [],
   "source": [
    "def load_data(filename):\n",
    "    sr, s = wavfile.read(filename)\n",
    "    s = s/np.max(s)\n",
    "    return s, sr"
   ]
  },
  {
   "cell_type": "code",
   "execution_count": null,
   "metadata": {
    "collapsed": true
   },
   "outputs": [],
   "source": [
    "def add_noise(x,SNR):\n",
    "    Ps=np.sum(x**2)\n",
    "    noise_variance = Ps*10**(-SNR/10)\n",
    "    noise = np.sqrt(noise_variance)*np.random.randn(len(x))\n",
    "    return x+noise"
   ]
  },
  {
   "cell_type": "code",
   "execution_count": null,
   "metadata": {
    "collapsed": true
   },
   "outputs": [],
   "source": [
    "def frame_split(x,frame_size):\n",
    "    # Overlap : the choice of analysis and synthesis windows is as in the STFT course\n",
    "    # Careful that it is only consistent for a 50% overlap\n",
    "    overlap_ratio = 0.5\n",
    "    overlap = int(overlap_ratio*frame_size)\n",
    "    w_a = sig.windows.cosine(frame_size)\n",
    "    w_s = sig.windows.cosine(frame_size)\n",
    "\n",
    "    # Compute the number of frames and pad the input signal at the end with zeros\n",
    "    # to work only with full frames\n",
    "    nframes = int(np.ceil((len(x)-overlap)/(frame_size-overlap)))\n",
    "    \n",
    "    padded_size = int((frame_size-overlap)*nframes+frame_size)\n",
    "    x_padded = np.concatenate((x,np.zeros(padded_size-len(x))))\n",
    "   \n",
    "    \n",
    "    list_frames = [[frame*(frame_size-overlap),frame*(frame_size-overlap)+frame_size] for frame in range(nframes)]\n",
    "    \n",
    "    return list_frames, x_padded, w_a, w_s"
   ]
  },
  {
   "cell_type": "code",
   "execution_count": null,
   "metadata": {
    "collapsed": true
   },
   "outputs": [],
   "source": [
    "from utils import autocorrelation\n",
    "def lpc_analysis(s,p):\n",
    "    \"\"\"Compute the parameters a_k of the p-order all-pole filter by solving the linear system obtained by MAP with\n",
    "    observed signal s. Following case 2 from the article\"\"\"\n",
    "    from scipy.linalg import solve, toeplitz\n",
    "    N = len(s)\n",
    "\n",
    "    # Efficient building of the linear system by using the fact that A is a symmetric toeplitz, and its diagonals, as well\n",
    "    # as the RHS, just contain the autocorrelation of s for various intervals\n",
    "    # 1. Compute autocorrelations\n",
    "    R = np.zeros(p+1)\n",
    "    for k in range(len(R)):\n",
    "        R[k] = autocorrelation(s,k)\n",
    "    # 2. Build LHS, RHS and solve\n",
    "    A = toeplitz(R[0:p])\n",
    "    b = R[1:p+1]\n",
    "    a = solve(A,b)\n",
    "\n",
    "    # 3. Compute the gain factor for the excitation. Pad s with p zeros at the beginning (assumption on the S_I)\n",
    "    padded_s = np.concatenate((np.zeros(p),s))\n",
    "    g2 = 0\n",
    "    for n in range(0,N):\n",
    "        g2 = g2 + (padded_s[n+p] - a@np.flip(padded_s[n:n+p],0))**2\n",
    "    g = np.sqrt(1/N*g2)\n",
    "    return a,g"
   ]
  },
  {
   "cell_type": "code",
   "execution_count": null,
   "metadata": {
    "collapsed": true
   },
   "outputs": [],
   "source": [
    "def denoise_frame(x,p,sr,iterations):\n",
    "    \"\"\"Denoise a frame in the STFT domain by applying iterative Wiener filtering\n",
    "    and approximating the PSD of the signal through the use of the all-pole model\n",
    "    \"\"\"\n",
    "    P_n = 9e-4 \n",
    "    #For now : estimator of PSD of the noise. Should be implemented with more care to improve results\n",
    "    #For gaussian noise : P_n = sigma_n^2\n",
    "    \n",
    "    dft = np.fft.rfft(x) # \n",
    "    omega = np.linspace(0,np.pi,len(dft))\n",
    "    \n",
    "    # First signal iterant is the original (noisy) signal\n",
    "    x_i = x\n",
    "    for it in range(iterations):\n",
    "        a,g = lpc_analysis(x_i,p) # Compute the coefficients of the all-pole filter from the current iterant\n",
    "\n",
    "        # Compute the estimation of the PSD of the speech signal\n",
    "        def PSD(omega):\n",
    "            k = np.arange(p)\n",
    "            return g**2/(np.abs(1-a@np.exp(-1j*k*omega)))**2\n",
    "        vec_PSD = np.vectorize(PSD) \n",
    "        \n",
    "        # Compute the transfer function of the Wiener Filter\n",
    "        transfer = vec_PSD(omega)/(vec_PSD(omega)+P_n)\n",
    "        \n",
    "        # Filter the original signal with the Wiener filter, and compute a\n",
    "        # next iterant\n",
    "        filtered_dft = transfer*dft\n",
    "        x_i = np.fft.irfft(filtered_dft)\n",
    "    return x_i"
   ]
  },
  {
   "cell_type": "code",
   "execution_count": null,
   "metadata": {
    "collapsed": true
   },
   "outputs": [],
   "source": [
    "# Parameters \n",
    "p = 10 #Order of the all pole filter\n",
    "frame_size = 400 # Window size\n",
    "iterations = 5 # Number of iterations of the Wiener Filter\n",
    "\n",
    "# Preparing the sample\n",
    "y_clean, sr = load_data('../samples/arctic_b0443.wav')\n",
    "# For now : choose the SNR (Db) and add corresponding noise to the signal\n",
    "SNR = 60\n",
    "y = add_noise(y_clean,SNR)\n",
    "\n",
    "# Get the list of frames for the STFT filtering\n",
    "list_frames,y_padded,w_a,w_s = frame_split(y,frame_size)\n",
    "n_frames = len(list_frames)\n",
    "\n",
    "s = np.zeros(y_padded.shape)\n",
    "for frame in range(n_frames):\n",
    "    start,end = list_frames[frame]\n",
    "    s[start:end] = w_s*denoise_frame(w_a*y_padded[start:end],p,sr,iterations)\n"
   ]
  },
  {
   "cell_type": "code",
   "execution_count": null,
   "metadata": {},
   "outputs": [],
   "source": [
    "# Plot and play the noisy signal\n",
    "plt.plot(y)\n",
    "IPython.display.Audio(y,rate=sr)"
   ]
  },
  {
   "cell_type": "code",
   "execution_count": null,
   "metadata": {
    "scrolled": true
   },
   "outputs": [],
   "source": [
    "#Plot and play the denoised signal\n",
    "plt.plot(s)\n",
    "IPython.display.Audio(s,rate=sr)"
   ]
  },
  {
   "cell_type": "code",
   "execution_count": null,
   "metadata": {
    "collapsed": true
   },
   "outputs": [],
   "source": []
  }
 ],
 "metadata": {
  "kernelspec": {
   "display_name": "Python 3",
   "language": "python",
   "name": "python3"
  },
  "language_info": {
   "codemirror_mode": {
    "name": "ipython",
    "version": 3
   },
   "file_extension": ".py",
   "mimetype": "text/x-python",
   "name": "python",
   "nbconvert_exporter": "python",
   "pygments_lexer": "ipython3",
   "version": "3.6.1"
  }
 },
 "nbformat": 4,
 "nbformat_minor": 2
}
